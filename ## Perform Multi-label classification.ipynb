{
 "cells": [
  {
   "cell_type": "markdown",
   "id": "46b4d178",
   "metadata": {},
   "source": [
    "## To perform Multi-labeling"
   ]
  },
  {
   "cell_type": "code",
   "execution_count": null,
   "id": "ab212efc",
   "metadata": {},
   "outputs": [],
   "source": [
    "from sklearn.preprocessing import MultiLabelBinarizer\n",
    "\n",
    "multilabel_binarizer = MultiLabelBinarizer()\n",
    "#column on which to perform the Multi-label classification\n",
    "multilabel_binarizer.fit(movies_new['genre_new'])\n",
    "\n",
    "# transform target variable\n",
    "y = multilabel_binarizer.transform(movies_new['genre_new'])"
   ]
  },
  {
   "cell_type": "markdown",
   "id": "7408097d",
   "metadata": {},
   "source": [
    "## Perform the Tfidf for converting text to numeric"
   ]
  },
  {
   "cell_type": "code",
   "execution_count": null,
   "id": "fa4f9735",
   "metadata": {},
   "outputs": [],
   "source": [
    "#a convert the text into the corpus\n",
    "documents=[\n",
    "    \"my name is suhaib mukhtar\",\n",
    "    \"i have created the corpus\",\n",
    "    \"i.e. list of strings or reviews\"\n",
    "]\n",
    "tfidf_vectorizer = TfidfVectorizer(max_df=0.8, max_features=10000)\n",
    "# # create TF-IDF features\n",
    "# xtrain_tfidf = tfidf_vectorizer.fit_transform(xtrain)\n",
    "# xval_tfidf = tfidf_vectorizer.transform(xval)\n",
    "\n",
    "#OR\n",
    "\n",
    "#max_df=0.8 means terms occuring more than 80% of documents will be removed\n",
    "#helps in noise reduction these are mainly the stopwords and common words\n",
    "#the words which create impact are usually less i.e. y it is best to use it\n",
    "tfidf_matrix=tfidf_vectorizer.fit_transform(documents) #passing corpus\n",
    "\n",
    "#get the feature names (words)\n",
    "feature_names=tfidf_vectorizer.get_feature_names_out() #unique words from the document\n",
    "\n",
    "#print tfidf matrix\n",
    "print(tfidf_matrix.toarray())\n",
    "#print feature names\n",
    "print(feature_names)"
   ]
  },
  {
   "cell_type": "code",
   "execution_count": null,
   "id": "984e56a0",
   "metadata": {},
   "outputs": [],
   "source": []
  },
  {
   "cell_type": "markdown",
   "id": "9ee3bec2",
   "metadata": {},
   "source": [
    "# split dataset into training and validation set"
   ]
  },
  {
   "cell_type": "code",
   "execution_count": null,
   "id": "0e163a46",
   "metadata": {},
   "outputs": [],
   "source": [
    "\n",
    "xtrain, xval, ytrain, yval = train_test_split(tfidf_matrix, y, test_size=0.2, random_state=42)\n"
   ]
  },
  {
   "cell_type": "markdown",
   "id": "924badd8",
   "metadata": {},
   "source": [
    "## print most-important features{words} for each class"
   ]
  },
  {
   "cell_type": "code",
   "execution_count": null,
   "id": "8522c9c8",
   "metadata": {},
   "outputs": [],
   "source": [
    "for i,class_name in enumerate(clf.classes_):\n",
    "    top_features_indices=clf.coef_[i].argsort()[-5:] #get indices of top 5 features\n",
    "    top_features=[feature_names[idx] for idx in top_features_indices]\n",
    "    print(f\"Top features of class{class_name}:{top_features}\")"
   ]
  },
  {
   "cell_type": "code",
   "execution_count": null,
   "id": "d3679ed5",
   "metadata": {},
   "outputs": [],
   "source": []
  }
 ],
 "metadata": {
  "kernelspec": {
   "display_name": "Python 3 (ipykernel)",
   "language": "python",
   "name": "python3"
  },
  "language_info": {
   "codemirror_mode": {
    "name": "ipython",
    "version": 3
   },
   "file_extension": ".py",
   "mimetype": "text/x-python",
   "name": "python",
   "nbconvert_exporter": "python",
   "pygments_lexer": "ipython3",
   "version": "3.9.13"
  }
 },
 "nbformat": 4,
 "nbformat_minor": 5
}
